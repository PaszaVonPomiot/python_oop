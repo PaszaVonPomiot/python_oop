{
 "cells": [
  {
   "attachments": {},
   "cell_type": "markdown",
   "metadata": {},
   "source": [
    "# Abstraction\n",
    "> A process of reducing complexity by hiding unnecessary details. A generalization."
   ]
  },
  {
   "cell_type": "code",
   "execution_count": 1,
   "metadata": {},
   "outputs": [],
   "source": [
    "class Creature:\n",
    "    def __init__(self) -> None:\n",
    "        self.hitpoints = 100\n",
    "\n",
    "class Goblin(Creature):\n",
    "    def steal(self) -> None:\n",
    "        print(\"Goblin steals!\")\n",
    "\n",
    "class Dragon(Creature):\n",
    "    def breath(self) -> None:\n",
    "        print(\"Dragon breathes fire!\")"
   ]
  },
  {
   "attachments": {},
   "cell_type": "markdown",
   "metadata": {},
   "source": [
    "### Abstract class & method\n",
    "\n",
    "> ABC (Abstract Base Class) - a class that cannot be instantiated directly but needs to be subclassed. Needs to have at least one abstract method\n",
    "\n",
    "> @abstractmethod - a method that has to be implemented before its class can be instantiated\n",
    "\n",
    "`ABC` and `@abstractmethod` must be used together"
   ]
  },
  {
   "cell_type": "code",
   "execution_count": 2,
   "metadata": {},
   "outputs": [],
   "source": [
    "from abc import ABC, abstractmethod\n",
    "\n",
    "\n",
    "class Creature(ABC):  # cannot be instantiated directly\n",
    "    def __init__(self) -> None:\n",
    "        self.hitpoints = 100\n",
    "\n",
    "    @abstractmethod  # enforcing interface (with signatures) on subclasses\n",
    "    def sleep(self, hours: float) -> None:\n",
    "        ...\n",
    "\n",
    "\n",
    "class Human(Creature):\n",
    "    def sleep(self, hours: float) -> None:\n",
    "        self.hitpoints += hours * 5\n",
    "\n",
    "class Zombie(Creature):\n",
    "    def sleep(self, hours: float) -> None:\n",
    "        self.hitpoints += hours * 0.5"
   ]
  },
  {
   "attachments": {},
   "cell_type": "markdown",
   "metadata": {},
   "source": [
    "### Abstract property\n",
    "Enforcing attribute implementation on subclasses"
   ]
  },
  {
   "cell_type": "code",
   "execution_count": null,
   "metadata": {},
   "outputs": [],
   "source": [
    "from abc import ABC, abstractmethod\n",
    "\n",
    "\n",
    "class Cat(ABC):\n",
    "    @property\n",
    "    @abstractmethod\n",
    "    def meow_text(self) -> str:\n",
    "        ...\n",
    "\n",
    "    def get_meow(self) -> None:\n",
    "        print(self.meow_text)\n",
    "\n",
    "\n",
    "class CuteCat(Cat):\n",
    "    meow_text = \"Miauuu!\"\n",
    "\n",
    "\n",
    "class UncuteCat(Cat):\n",
    "    meow_text = \"Whooof!\"\n",
    "\n",
    "\n",
    "cute_cat = CuteCat()\n",
    "uncute_cat = UncuteCat()\n",
    "\n",
    "cute_cat.get_meow()\n",
    "uncute_cat.get_meow()"
   ]
  },
  {
   "attachments": {},
   "cell_type": "markdown",
   "metadata": {},
   "source": [
    "<span style=\"color:yellow\">Questions?</span>\n",
    "\n",
    "<span style=\"color:red\">Exercise</span>\n",
    "\n",
    "<span style=\"color:green\">=== Short break ===</span>"
   ]
  }
 ],
 "metadata": {
  "kernelspec": {
   "display_name": "Python 3",
   "language": "python",
   "name": "python3"
  },
  "language_info": {
   "codemirror_mode": {
    "name": "ipython",
    "version": 3
   },
   "file_extension": ".py",
   "mimetype": "text/x-python",
   "name": "python",
   "nbconvert_exporter": "python",
   "pygments_lexer": "ipython3",
   "version": "3.10.6"
  },
  "orig_nbformat": 4,
  "vscode": {
   "interpreter": {
    "hash": "631cc59691aa2975cf441ed089e512e56035cd73b61a7e03a7a910c32bac454c"
   }
  }
 },
 "nbformat": 4,
 "nbformat_minor": 2
}
