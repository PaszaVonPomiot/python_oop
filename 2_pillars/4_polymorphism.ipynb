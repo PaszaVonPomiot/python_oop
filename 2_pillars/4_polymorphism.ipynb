{
 "cells": [
  {
   "attachments": {},
   "cell_type": "markdown",
   "metadata": {},
   "source": [
    "# Polymorphism\n",
    "> Using single entity to represent different types in defferent scenarios."
   ]
  },
  {
   "attachments": {},
   "cell_type": "markdown",
   "metadata": {},
   "source": [
    "### Addition operator\n",
    "Used for adding both integers and strings"
   ]
  },
  {
   "cell_type": "code",
   "execution_count": null,
   "metadata": {},
   "outputs": [],
   "source": [
    "print(1+2)\n",
    "print(\"a\"+\"b\")"
   ]
  },
  {
   "attachments": {},
   "cell_type": "markdown",
   "metadata": {},
   "source": [
    "### Function polymorphism\n",
    "`len()` used for string, list or dict"
   ]
  },
  {
   "cell_type": "code",
   "execution_count": null,
   "metadata": {},
   "outputs": [],
   "source": [
    "len(\"test\")\n",
    "len([2, 3, 4])\n",
    "len({\"a\": 1, \"b\": 2})"
   ]
  },
  {
   "attachments": {},
   "cell_type": "markdown",
   "metadata": {},
   "source": [
    "### Class polymorphism\n",
    "Two unrelated classes can have attribute with the same name that you can access while iterating"
   ]
  },
  {
   "cell_type": "code",
   "execution_count": null,
   "metadata": {},
   "outputs": [],
   "source": [
    "class Cat:\n",
    "    name = \"kitty\"\n",
    "\n",
    "\n",
    "class Dog:\n",
    "    name = \"doggy\"\n",
    "\n",
    "\n",
    "\n",
    "for animal in (Dog, Cat):  # not concerned what objects it iterates over\n",
    "    print(animal.name)"
   ]
  },
  {
   "attachments": {},
   "cell_type": "markdown",
   "metadata": {},
   "source": [
    "### Method overriding\n",
    ">  method overriding - a technique in OOP where a subclass provides a new implementation for a method that is already defined in its superclass"
   ]
  },
  {
   "cell_type": "code",
   "execution_count": null,
   "metadata": {},
   "outputs": [],
   "source": [
    "class Animal:\n",
    "    def eat(self):\n",
    "        print(\"Eating...\")\n",
    "\n",
    "    def make_sound(self):\n",
    "        print(\"Some generic animal sound\")\n",
    "\n",
    "\n",
    "class Dog(Animal):\n",
    "    def make_sound(self):\n",
    "        print(\"Bark\")\n",
    "\n",
    "\n",
    "class Cat(Animal):\n",
    "    def make_sound(self):\n",
    "        print(\"Meow\")\n",
    "\n",
    "\n",
    "dog = Dog()\n",
    "cat = Cat()\n",
    "dog.make_sound()\n",
    "cat.make_sound()"
   ]
  },
  {
   "cell_type": "code",
   "execution_count": null,
   "metadata": {},
   "outputs": [],
   "source": [
    "class Flower:\n",
    "    def __init__(self, color):\n",
    "        self.color = color\n",
    "\n",
    "    def get_info(self):\n",
    "        return f\"This flower is {self.color}\"\n",
    "\n",
    "\n",
    "class Rose(Flower):\n",
    "    def __init__(self, color, fragrance):\n",
    "        super().__init__(color)\n",
    "        self.fragrance = fragrance\n",
    "\n",
    "    def get_info(self):\n",
    "        return f\"This flower is {self.color} and has a {self.fragrance} fragrance\"\n",
    "\n",
    "\n",
    "rose = Rose(\"red\", \"strong\")\n",
    "rose.get_info()"
   ]
  },
  {
   "attachments": {},
   "cell_type": "markdown",
   "metadata": {},
   "source": [
    "### Method overloading\n",
    "> Method overloading - a technique in OOP where two or more methods have the same name but different number of parameters or different types of parameters\n",
    "\n",
    "In Python direct method overloading doesn't work"
   ]
  },
  {
   "cell_type": "code",
   "execution_count": null,
   "metadata": {},
   "outputs": [],
   "source": [
    "from multipledispatch import dispatch\n",
    "\n",
    "\n",
    "@dispatch(int, int)\n",
    "def foo(a, b):\n",
    "    print(a, b, \"osiem\")\n",
    "\n",
    "\n",
    "@dispatch(int, int, str)\n",
    "def foo(a, b, c):\n",
    "    print(a, b, c)\n",
    "\n",
    "\n",
    "foo(1, 2)\n",
    "foo(1, 2, \"trzy\")"
   ]
  },
  {
   "attachments": {},
   "cell_type": "markdown",
   "metadata": {},
   "source": [
    "### Callable\n",
    "> Callable - an object that can be called\n",
    "\n",
    "Object is callable if it implements `__call__` method that can by executed by using `()`"
   ]
  },
  {
   "cell_type": "code",
   "execution_count": 11,
   "metadata": {},
   "outputs": [
    {
     "name": "stdout",
     "output_type": "stream",
     "text": [
      "Here, take 2L of my milk!\n",
      "Here, take 7L of my milk!\n"
     ]
    }
   ],
   "source": [
    "class Cow:\n",
    "    def milk(self, liters):\n",
    "        print(f\"Here, take {liters}L of my milk!\")\n",
    "\n",
    "    def __call__(self, liters=2):\n",
    "        self.milk(liters)\n",
    "\n",
    "\n",
    "cow = Cow()\n",
    "cow()\n",
    "\n",
    "Cow()(liters=7)"
   ]
  },
  {
   "attachments": {},
   "cell_type": "markdown",
   "metadata": {},
   "source": [
    "### Iterable\n",
    "> Iterable - an object capable of returning its members one at a time\n",
    "\n",
    "Object is iterable if it's possible to iterate over it using for-loop"
   ]
  },
  {
   "cell_type": "code",
   "execution_count": 16,
   "metadata": {},
   "outputs": [
    {
     "name": "stdout",
     "output_type": "stream",
     "text": [
      "vul1\n",
      "vul2\n",
      "vul3\n",
      "vul4\n",
      "vul5\n"
     ]
    }
   ],
   "source": [
    "from random import randint\n",
    "class Vulnerability:\n",
    "    def __init__(self):\n",
    "        self.vulnerabilities = [\"vul1\", \"vul2\", \"vul3\", \"vul4\", \"vul5\"]\n",
    "\n",
    "    def __iter__(self):\n",
    "        yield randint(5)\n",
    "\n",
    "\n",
    "vulnerability = Vulnerability()\n",
    "\n",
    "for item in vulnerability:\n",
    "    print(item)"
   ]
  },
  {
   "cell_type": "code",
   "execution_count": 17,
   "metadata": {},
   "outputs": [
    {
     "name": "stdout",
     "output_type": "stream",
     "text": [
      "range(0, 5)\n"
     ]
    }
   ],
   "source": [
    "class Vulnerability:\n",
    "    def __iter__(self):\n",
    "        yield range(5)\n",
    "\n",
    "\n",
    "vulnerability = Vulnerability()\n",
    "\n",
    "for item in vulnerability:\n",
    "    print(item)"
   ]
  },
  {
   "attachments": {},
   "cell_type": "markdown",
   "metadata": {},
   "source": [
    "### Subscriptable\n",
    "> Object that can contain other objects\n",
    "\n",
    "Object is subscriptable if it implements `__getitem__` method that allows for accessing specific object within an object."
   ]
  }
 ],
 "metadata": {
  "kernelspec": {
   "display_name": "Python 3",
   "language": "python",
   "name": "python3"
  },
  "language_info": {
   "codemirror_mode": {
    "name": "ipython",
    "version": 3
   },
   "file_extension": ".py",
   "mimetype": "text/x-python",
   "name": "python",
   "nbconvert_exporter": "python",
   "pygments_lexer": "ipython3",
   "version": "3.10.6"
  },
  "orig_nbformat": 4,
  "vscode": {
   "interpreter": {
    "hash": "631cc59691aa2975cf441ed089e512e56035cd73b61a7e03a7a910c32bac454c"
   }
  }
 },
 "nbformat": 4,
 "nbformat_minor": 2
}
