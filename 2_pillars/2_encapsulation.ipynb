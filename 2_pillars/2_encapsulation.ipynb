{
 "cells": [
  {
   "attachments": {},
   "cell_type": "markdown",
   "metadata": {},
   "source": [
    "# Encapsulation\n",
    "\n",
    "> Bundling data and methods within single unit\n",
    "\n",
    "- readable code\n",
    "- preventing accidental modification and deletion (namespace)\n",
    "- securing access to data using access modifiers:\n",
    "  - public - `variable`\n",
    "  - protected - `_variable` (convention, not to be used directly)\n",
    "  - private - `__variable` (variable accessible via name mangling)\n",
    "\n"
   ]
  },
  {
   "cell_type": "code",
   "execution_count": null,
   "metadata": {},
   "outputs": [],
   "source": [
    "class Bank:\n",
    "    class_var = 2\n",
    "\n",
    "    def __init__(self) -> None:\n",
    "        self.public = 20\n",
    "        self._protected = 10\n",
    "        self.__private = \"private\"  # no direct access from subclass\n",
    "\n",
    "    def bound_method(self) -> int:\n",
    "        return self.public\n",
    "\n",
    "    @classmethod\n",
    "    def class_method(cls) -> int:\n",
    "        return cls.class_var\n",
    "\n",
    "    @staticmethod\n",
    "    def static_method() -> int:\n",
    "        return 1\n",
    "\n",
    "    @property\n",
    "    def public_hidden(self) -> int:\n",
    "        return self.public\n",
    "\n",
    "    @property\n",
    "    def protected_hidden(self) -> int:\n",
    "        return self._protected\n",
    "\n",
    "    @property\n",
    "    def private_hidden(self) -> str:\n",
    "        return self.__private\n",
    "\n",
    "\n",
    "bank = Bank()\n",
    "\n",
    "dir(bank)\n",
    "bank.public\n",
    "bank._protected\n",
    "# bank.__private\n",
    "bank._Bank__private\n",
    "bank.bound_method()\n",
    "bank.class_method()\n",
    "bank.private_hidden"
   ]
  },
  {
   "attachments": {},
   "cell_type": "markdown",
   "metadata": {},
   "source": [
    "## Information hiding\n",
    "- hiding of attributes or methods from the user\n",
    "- protects object integrity by preventing unintended changes\n",
    "- reduces complexity\n"
   ]
  },
  {
   "attachments": {},
   "cell_type": "markdown",
   "metadata": {},
   "source": [
    "### Property\n",
    "Define a managed attribute with custom defined getter, setter and deleter."
   ]
  },
  {
   "cell_type": "code",
   "execution_count": null,
   "metadata": {},
   "outputs": [],
   "source": [
    "class Bank:\n",
    "    def __init__(self) -> None:\n",
    "        self._x = 3\n",
    "\n",
    "    def x_get(self) -> int:\n",
    "        return self._x\n",
    "\n",
    "    def x_set(self, new_value: int) -> None:\n",
    "        self._x = new_value + 10\n",
    "\n",
    "    def x_del(self) -> None:\n",
    "        print(\"no deleting please\")\n",
    "\n",
    "    x = property(\n",
    "        fget=x_get,\n",
    "        fset=x_set,\n",
    "        fdel=x_del,\n",
    "    )\n",
    "\n",
    "\n",
    "bank = Bank()\n",
    "\n",
    "print(bank.x)  # get\n",
    "bank.x = 5  # set\n",
    "print(bank.x)  # get\n",
    "\n",
    "del bank.x  # del"
   ]
  },
  {
   "attachments": {},
   "cell_type": "markdown",
   "metadata": {},
   "source": [
    "Questions?"
   ]
  }
 ],
 "metadata": {
  "kernelspec": {
   "display_name": "Python 3",
   "language": "python",
   "name": "python3"
  },
  "language_info": {
   "codemirror_mode": {
    "name": "ipython",
    "version": 3
   },
   "file_extension": ".py",
   "mimetype": "text/x-python",
   "name": "python",
   "nbconvert_exporter": "python",
   "pygments_lexer": "ipython3",
   "version": "3.10.6"
  },
  "orig_nbformat": 4,
  "vscode": {
   "interpreter": {
    "hash": "631cc59691aa2975cf441ed089e512e56035cd73b61a7e03a7a910c32bac454c"
   }
  }
 },
 "nbformat": 4,
 "nbformat_minor": 2
}
