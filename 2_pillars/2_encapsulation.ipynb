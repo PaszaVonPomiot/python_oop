{
 "cells": [
  {
   "attachments": {},
   "cell_type": "markdown",
   "metadata": {},
   "source": [
    "# Encapsulation\n",
    "\n",
    "> Bundling data and methods within single unit\n",
    "\n",
    "- readable code\n",
    "- preventing accidental modification and deletion (namespace)\n",
    "- securing access to data using access modifiers:\n",
    "  - public - `variable`\n",
    "  - protected - `_variable` (convention, not to be used directly)\n",
    "  - private - `__variable` (variable accessible via name mangling)\n",
    "\n"
   ]
  },
  {
   "cell_type": "code",
   "execution_count": 1,
   "metadata": {},
   "outputs": [
    {
     "data": {
      "text/plain": [
       "'private'"
      ]
     },
     "execution_count": 1,
     "metadata": {},
     "output_type": "execute_result"
    }
   ],
   "source": [
    "class Bank:\n",
    "    class_var = 2\n",
    "\n",
    "    def __init__(self):\n",
    "        self.public = 20\n",
    "        self._protected = 10\n",
    "        self.__private = \"private\"  # no direct access from subclass\n",
    "        self._decorated_property = 3\n",
    "\n",
    "    def bound_method(self):\n",
    "        return self.public\n",
    "\n",
    "    @classmethod\n",
    "    def class_method(cls):\n",
    "        return cls.class_var\n",
    "\n",
    "    @staticmethod\n",
    "    def static_method():\n",
    "        return 1\n",
    "\n",
    "    @property\n",
    "    def public_hidden(self):\n",
    "        return self.public\n",
    "\n",
    "    @property\n",
    "    def protected_hidden(self):\n",
    "        return self._protected\n",
    "\n",
    "    @property\n",
    "    def private_hidden(self):\n",
    "        return self.__private\n",
    "\n",
    "    def decorated_property_get(self):\n",
    "        return self._decorated_property\n",
    "\n",
    "    def decorated_property_set(self, new_value):\n",
    "        self._decorated_property = new_value\n",
    "\n",
    "    def decorated_property_del(self):\n",
    "        print(\"no deleting please\")\n",
    "\n",
    "    decorated_property = property(\n",
    "        fget=decorated_property_get,\n",
    "        fset=decorated_property_set,\n",
    "        fdel=decorated_property_del,\n",
    "    )\n",
    "\n",
    "bank = Bank()\n",
    "\n",
    "dir(bank)\n",
    "bank.public\n",
    "bank._protected\n",
    "# e.__private\n",
    "bank._Bank__private\n",
    "bank.bound_method()\n",
    "bank.class_method()\n",
    "bank.private_hidden\n"
   ]
  },
  {
   "attachments": {},
   "cell_type": "markdown",
   "metadata": {},
   "source": [
    "## Information hiding\n",
    "- hiding of attributes or methods from the user\n",
    "- protects object integrity by preventing unintended changes\n",
    "- reduces complexity\n"
   ]
  }
 ],
 "metadata": {
  "kernelspec": {
   "display_name": "Python 3",
   "language": "python",
   "name": "python3"
  },
  "language_info": {
   "codemirror_mode": {
    "name": "ipython",
    "version": 3
   },
   "file_extension": ".py",
   "mimetype": "text/x-python",
   "name": "python",
   "nbconvert_exporter": "python",
   "pygments_lexer": "ipython3",
   "version": "3.10.6"
  },
  "orig_nbformat": 4,
  "vscode": {
   "interpreter": {
    "hash": "631cc59691aa2975cf441ed089e512e56035cd73b61a7e03a7a910c32bac454c"
   }
  }
 },
 "nbformat": 4,
 "nbformat_minor": 2
}
