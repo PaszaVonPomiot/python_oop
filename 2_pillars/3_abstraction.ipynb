{
 "cells": [
  {
   "attachments": {},
   "cell_type": "markdown",
   "metadata": {},
   "source": [
    "# Abstraction\n",
    "> A process of reducing complexity by hiding unnecessary details. A generalization.\n",
    "\n",
    "> ABC (Abstract Base Class) - a class that cannot be instantiated directly but needs to be subclassed. Needs to have at least one abstract method\n",
    "\n",
    "> @abstractmethod - a method that has to be implemented before its class can be instantiated\n",
    "\n",
    "### Abstract class & method"
   ]
  },
  {
   "cell_type": "code",
   "execution_count": null,
   "metadata": {},
   "outputs": [],
   "source": [
    "from abc import ABC, abstractmethod\n",
    "\n",
    "\n",
    "class Shape(ABC):\n",
    "    @abstractmethod\n",
    "    def get_area():\n",
    "        ...\n",
    "\n",
    "\n",
    "class Square(Shape):\n",
    "    def __init__(self, length):\n",
    "        self.length = length\n",
    "\n",
    "    def get_area(self):\n",
    "        return self.length**2\n",
    "\n",
    "\n",
    "class Circle(Shape):\n",
    "    def __init__(self, radius):\n",
    "        self.radius = radius\n",
    "\n",
    "    def get_area(self):\n",
    "        return 3.14 * self.radius**2\n",
    "\n",
    "\n",
    "square = Square(4)\n",
    "circle = Circle(10)\n",
    "\n",
    "square.get_area()\n",
    "circle.get_area()"
   ]
  },
  {
   "attachments": {},
   "cell_type": "markdown",
   "metadata": {},
   "source": [
    "### Abstract property"
   ]
  },
  {
   "cell_type": "code",
   "execution_count": null,
   "metadata": {},
   "outputs": [],
   "source": [
    "class Cat(ABC):\n",
    "    @property\n",
    "    @abstractmethod\n",
    "    def meow_text(self):\n",
    "        ...\n",
    "    \n",
    "    def get_meow(self):\n",
    "        print(self.meow_text)\n",
    "\n",
    "\n",
    "\n",
    "class CuteCat(Cat):\n",
    "    meow_text = \"Miauuu!\"\n",
    "\n",
    "class UncuteCat(Cat):\n",
    "    meow_text = \"Whooof!\"\n",
    "\n",
    "\n",
    "cute_cat = CuteCat()\n",
    "uncute_cat = UncuteCat()\n",
    "\n",
    "cute_cat.get_meow()\n",
    "uncute_cat.get_meow()"
   ]
  }
 ],
 "metadata": {
  "kernelspec": {
   "display_name": "Python 3",
   "language": "python",
   "name": "python3"
  },
  "language_info": {
   "codemirror_mode": {
    "name": "ipython",
    "version": 3
   },
   "file_extension": ".py",
   "mimetype": "text/x-python",
   "name": "python",
   "nbconvert_exporter": "python",
   "pygments_lexer": "ipython3",
   "version": "3.10.6 (tags/v3.10.6:9c7b4bd, Aug  1 2022, 21:53:49) [MSC v.1932 64 bit (AMD64)]"
  },
  "orig_nbformat": 4,
  "vscode": {
   "interpreter": {
    "hash": "631cc59691aa2975cf441ed089e512e56035cd73b61a7e03a7a910c32bac454c"
   }
  }
 },
 "nbformat": 4,
 "nbformat_minor": 2
}
