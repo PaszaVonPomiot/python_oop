{
 "cells": [
  {
   "attachments": {},
   "cell_type": "markdown",
   "metadata": {},
   "source": [
    "# The Open-Closed Principle (OCP)\n",
    "\n",
    "> Software entities (classes, modules, functions) should be open for extension but closed for modification\n",
    "\n",
    "Once a class has been defined, it should be possible to add new functionality to it without changing its source code\n",
    "\n",
    "![](2_OCP.png)\n",
    "\n"
   ]
  },
  {
   "cell_type": "code",
   "execution_count": null,
   "metadata": {},
   "outputs": [],
   "source": [
    "class AreaCalculator:\n",
    "    @staticmethod\n",
    "    def square(length: float) -> float:\n",
    "        return length**2\n",
    "\n",
    "    @staticmethod\n",
    "    def circle(radius: float) -> float:\n",
    "        return 3.14 * radius**2\n",
    "\n",
    "\n",
    "# Adding another shape whould require modification of AreaCalculator"
   ]
  },
  {
   "cell_type": "code",
   "execution_count": 7,
   "metadata": {},
   "outputs": [
    {
     "name": "stdout",
     "output_type": "stream",
     "text": [
      "25\n",
      "12.566370614359172\n"
     ]
    }
   ],
   "source": [
    "from abc import ABC, abstractmethod\n",
    "\n",
    "\n",
    "class AreaCalculator(ABC):\n",
    "    @abstractmethod\n",
    "    def area(self, *args: float) -> float:\n",
    "        ...\n",
    "\n",
    "\n",
    "class SquareAreaCalculator(AreaCalculator):\n",
    "    def area(self, length: float) -> float:\n",
    "        return length**2\n",
    "\n",
    "\n",
    "class CircleAreaCalculator(AreaCalculator):\n",
    "    pi = 3.14159265358979323846\n",
    "\n",
    "    def area(self, radius: float) -> float:\n",
    "        return self.pi * (radius**2)\n",
    "\n",
    "\n",
    "square = SquareAreaCalculator()\n",
    "print(square.area(length=5))\n",
    "\n",
    "circle = CircleAreaCalculator()\n",
    "print(circle.area(radius=2))"
   ]
  }
 ],
 "metadata": {
  "kernelspec": {
   "display_name": "Python 3",
   "language": "python",
   "name": "python3"
  },
  "language_info": {
   "codemirror_mode": {
    "name": "ipython",
    "version": 3
   },
   "file_extension": ".py",
   "mimetype": "text/x-python",
   "name": "python",
   "nbconvert_exporter": "python",
   "pygments_lexer": "ipython3",
   "version": "3.11.1 (tags/v3.11.1:a7a450f, Dec  6 2022, 19:58:39) [MSC v.1934 64 bit (AMD64)]"
  },
  "orig_nbformat": 4,
  "vscode": {
   "interpreter": {
    "hash": "4477babfb89b0dfe045b9016a04b9fde0c805e9dbfeed6c6921758e1ea05627f"
   }
  }
 },
 "nbformat": 4,
 "nbformat_minor": 2
}
