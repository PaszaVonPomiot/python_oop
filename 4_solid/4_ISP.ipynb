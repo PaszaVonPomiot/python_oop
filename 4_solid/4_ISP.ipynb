{
 "cells": [
  {
   "attachments": {},
   "cell_type": "markdown",
   "metadata": {},
   "source": [
    "# The Interface Segregation Principle (ISP)"
   ]
  }
 ],
 "metadata": {
  "kernelspec": {
   "display_name": "python-oop-r_Rj-fig-py3.10",
   "language": "python",
   "name": "python3"
  },
  "language_info": {
   "name": "python",
   "version": "3.10.6 (tags/v3.10.6:9c7b4bd, Aug  1 2022, 21:53:49) [MSC v.1932 64 bit (AMD64)]"
  },
  "orig_nbformat": 4,
  "vscode": {
   "interpreter": {
    "hash": "61a0187907a68c34b7d3c9479ef03cf0dde3071604f882e18ddbd2f3d951afe1"
   }
  }
 },
 "nbformat": 4,
 "nbformat_minor": 2
}
