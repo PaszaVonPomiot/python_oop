{
 "cells": [
  {
   "attachments": {},
   "cell_type": "markdown",
   "metadata": {},
   "source": [
    "# The Single Responsibility Principle (SRP)\n",
    "\n",
    "> A class should have one, and only one, reason to change\n",
    "\n",
    "![](1_SRP.png)\n",
    "\n",
    "Well implemented SRP means that class:\n",
    "- has one, well-defined responsibility\n",
    "- methods and attributes are related to class single responsibility\n",
    "- has high cohesion\n",
    "- is loosely coupled (independent of other classes)\n",
    "- will need to be changed only when its main responsibility changes"
   ]
  },
  {
   "cell_type": "code",
   "execution_count": null,
   "metadata": {},
   "outputs": [],
   "source": [
    "class Album:\n",
    "    \"\"\"Manipulate list of songs in album\"\"\"\n",
    "    def __init__(self, name: str, artist: str, songs: list[str]) -> None:\n",
    "        self.name = name\n",
    "        self.artist = artist\n",
    "        self.songs = songs\n",
    "\n",
    "    def add_song(self, song: str) -> None:\n",
    "        self.songs.append(song)\n",
    "\n",
    "    def remove_song(self, song: str) -> None:\n",
    "        self.songs.remove(song)\n",
    "\n",
    "    def search_album_by_artist(self) -> list[str]:  # breaks the SRP\n",
    "        \"\"\"Searching the database for other albums by same artist\"\"\"\n",
    "        pass\n",
    "\n",
    "\n",
    "# Two reasons to change for Album class:\n",
    "# 1. Changed way of manipulating/storing songs in album\n",
    "# 2. Changed database and way it needs to be searched"
   ]
  },
  {
   "cell_type": "code",
   "execution_count": null,
   "metadata": {},
   "outputs": [],
   "source": [
    "# Solution - extract responsibility to another class\n",
    "class AlbumBrowser:\n",
    "    \"\"\"Browse albums saved in database\"\"\"\n",
    "    def search_album_by_artist(self, album: Album, artist: str) -> list[str]:\n",
    "        pass\n",
    "\n",
    "    def search_album_starting_with_letter(self, album: Album, letter: str) -> list[str]:\n",
    "        pass"
   ]
  }
 ],
 "metadata": {
  "kernelspec": {
   "display_name": "Python 3",
   "language": "python",
   "name": "python3"
  },
  "language_info": {
   "name": "python",
   "version": "3.11.1 (tags/v3.11.1:a7a450f, Dec  6 2022, 19:58:39) [MSC v.1934 64 bit (AMD64)]"
  },
  "orig_nbformat": 4,
  "vscode": {
   "interpreter": {
    "hash": "4477babfb89b0dfe045b9016a04b9fde0c805e9dbfeed6c6921758e1ea05627f"
   }
  }
 },
 "nbformat": 4,
 "nbformat_minor": 2
}
