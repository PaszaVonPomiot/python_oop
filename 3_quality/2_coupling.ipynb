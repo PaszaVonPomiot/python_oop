{
 "cells": [
  {
   "attachments": {},
   "cell_type": "markdown",
   "metadata": {},
   "source": [
    "# Coupling\n",
    "> Coupling - the degree of interdependence between software modules"
   ]
  },
  {
   "cell_type": "code",
   "execution_count": null,
   "metadata": {},
   "outputs": [],
   "source": [
    "class Database:\n",
    "    def __init__(self) -> None:\n",
    "        self.data = []\n",
    "\n",
    "    def add_data(self, data: str) -> None:\n",
    "        self.data.append(data)\n",
    "\n",
    "\n",
    "class User:\n",
    "    \"\"\"\n",
    "    User class is tightly coupled to the Database\n",
    "    User class must be aware of Database add_data() method\n",
    "    \"\"\"\n",
    "\n",
    "    def __init__(self, database: Database) -> None:\n",
    "        self.database = database\n",
    "\n",
    "    def add_data(self, data: str) -> None:\n",
    "        self.database.add_data(data)\n",
    "\n",
    "database = Database()\n",
    "user = User(database=database)\n",
    "user.add_data(data=\"Andrew Tate\")\n",
    "user.add_data(data=\"Tristan Tate\")\n",
    "database.data"
   ]
  },
  {
   "cell_type": "code",
   "execution_count": null,
   "metadata": {},
   "outputs": [],
   "source": [
    "class Database:\n",
    "    def __init__(self) -> None:\n",
    "        self.data = []\n",
    "\n",
    "    def the_worst_method_name_ever(self, data) -> None:\n",
    "        self.data.append(data)\n",
    "\n",
    "\n",
    "class User:\n",
    "    \"\"\"\n",
    "    User class is loosely coupled to the Database\n",
    "    User class doesn't care about Database methods\n",
    "    \"\"\"\n",
    "\n",
    "    def __init__(self, add_data_function) -> None:\n",
    "        self.add_data_function = add_data_function\n",
    "\n",
    "    def add_data(self, data) -> None:\n",
    "        self.add_data_function(data)\n",
    "\n",
    "\n",
    "database = Database()\n",
    "user = User(database.the_worst_method_name_ever)\n",
    "user.add_data(\"Andrew Golota\")\n",
    "user.add_data(\"Mike Tyson\")\n",
    "database.data"
   ]
  }
 ],
 "metadata": {
  "kernelspec": {
   "display_name": "Python 3",
   "language": "python",
   "name": "python3"
  },
  "language_info": {
   "codemirror_mode": {
    "name": "ipython",
    "version": 3
   },
   "file_extension": ".py",
   "mimetype": "text/x-python",
   "name": "python",
   "nbconvert_exporter": "python",
   "pygments_lexer": "ipython3",
   "version": "3.10.6"
  },
  "orig_nbformat": 4,
  "vscode": {
   "interpreter": {
    "hash": "631cc59691aa2975cf441ed089e512e56035cd73b61a7e03a7a910c32bac454c"
   }
  }
 },
 "nbformat": 4,
 "nbformat_minor": 2
}
