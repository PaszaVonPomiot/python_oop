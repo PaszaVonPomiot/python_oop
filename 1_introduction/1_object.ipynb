{
 "cells": [
  {
   "cell_type": "markdown",
   "metadata": {},
   "source": [
    "## What is a object?\n",
    "- means of bundling data and functionality together in a namespace\n",
    "- object can can be created and destroyed\n",
    "- objects can be mutable or immutable\n",
    "\n",
    "# Operations on objects\n",
    "<img src=\"../media/tree.png\" style=\"width:300px;\">"
   ]
  },
  {
   "cell_type": "code",
   "execution_count": null,
   "metadata": {},
   "outputs": [],
   "source": [
    "from _example_object import tree  # importing tree object from somewhere else\n",
    "\n",
    "# Tree data\n",
    "print(tree.species)  # read data\n",
    "print(tree.height)  # dot notation\n",
    "\n",
    "print(tree.age)\n",
    "tree.age += 2  # write data\n",
    "print(tree.age)\n",
    "\n",
    "\n",
    "# Tree functionality\n",
    "tree.grow()  # call object functions\n",
    "print(tree.height)"
   ]
  }
 ],
 "metadata": {
  "kernelspec": {
   "display_name": ".venv",
   "language": "python",
   "name": "python3"
  },
  "language_info": {
   "name": "python",
   "version": "3.12.1"
  }
 },
 "nbformat": 4,
 "nbformat_minor": 2
}
