{
 "cells": [
  {
   "attachments": {},
   "cell_type": "markdown",
   "metadata": {},
   "source": [
    "# Operations on classes"
   ]
  },
  {
   "cell_type": "code",
   "execution_count": null,
   "metadata": {},
   "outputs": [],
   "source": [
    "class Spy:\n",
    "    experience = 100\n",
    "    medikit = \"Grizzly medical kit\"\n",
    "    gun = \"Glock 17\"\n",
    "\n",
    "    def shoot() -> None:\n",
    "        print(\"Shooting\")\n",
    "\n",
    "    def heal() -> None:\n",
    "        print(\"Healing\")\n",
    "\n",
    "\n",
    "# attrubute reference\n",
    "# access namespace with \"dot notation\"\n",
    "print(Spy.experience)\n",
    "print(Spy.medikit)\n",
    "print(Spy.gun)\n",
    "\n",
    "\n",
    "# calling method reference from class\n",
    "Spy.shoot()\n",
    "Spy.heal()\n",
    "\n",
    "# instantiation by calling a class\n",
    "spy = Spy()"
   ]
  },
  {
   "attachments": {},
   "cell_type": "markdown",
   "metadata": {},
   "source": [
    "> Instantiation - creating and initializing new instance of a class (new class object)"
   ]
  },
  {
   "cell_type": "markdown",
   "metadata": {},
   "source": [
    "Questions?"
   ]
  }
 ],
 "metadata": {
  "kernelspec": {
   "display_name": "Python 3",
   "language": "python",
   "name": "python3"
  },
  "language_info": {
   "codemirror_mode": {
    "name": "ipython",
    "version": 3
   },
   "file_extension": ".py",
   "mimetype": "text/x-python",
   "name": "python",
   "nbconvert_exporter": "python",
   "pygments_lexer": "ipython3",
   "version": "3.11.1 (tags/v3.11.1:a7a450f, Dec  6 2022, 19:58:39) [MSC v.1934 64 bit (AMD64)]"
  },
  "orig_nbformat": 4,
  "vscode": {
   "interpreter": {
    "hash": "4477babfb89b0dfe045b9016a04b9fde0c805e9dbfeed6c6921758e1ea05627f"
   }
  }
 },
 "nbformat": 4,
 "nbformat_minor": 2
}
