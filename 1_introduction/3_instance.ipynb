{
 "cells": [
  {
   "attachments": {},
   "cell_type": "markdown",
   "metadata": {},
   "source": [
    "## Instance / object\n",
    "> Instance - new Python object created from class, initialized, `self`-aware and `cls`-aware:\n",
    "> - is a new object in Python\n",
    "> - has initial state set\n",
    "> - has it's own namespace separated from class and other instances\n",
    "> - knows it's origin class and has access to it"
   ]
  },
  {
   "cell_type": "code",
   "execution_count": null,
   "metadata": {},
   "outputs": [],
   "source": [
    "class Agent:\n",
    "    gun = \"Walther PPQ\"  # all instances will share 'gun'\n",
    "\n",
    "    def __init__(self) -> None:  # 'constructor'\n",
    "        self.bullets = 10  # every instance has it's own 'bullets'\n",
    "\n",
    "    def shoot(self) -> None:\n",
    "        print(f\"Shooting with {self.gun}\")\n",
    "        self.bullets -= 1\n",
    "\n",
    "\n",
    "Agent.bullets  # AttributeError\n",
    "\n",
    "# Instantiate two agents\n",
    "agent_1 = Agent()\n",
    "agent_2 = Agent()\n",
    "\n",
    "# Set instance attribute\n",
    "agent_1.shoot()\n",
    "agent_1.shoot()\n",
    "agent_2.shoot()\n",
    "\n",
    "print(agent_1.bullets, agent_2.bullets)"
   ]
  },
  {
   "attachments": {},
   "cell_type": "markdown",
   "metadata": {},
   "source": [
    "> Class attribute - attribute that is bound to the class and accessible from all instances\n",
    "\n",
    "> Instance attribute - attribute that is bound to the instance and not accessible to the class or other instances"
   ]
  },
  {
   "attachments": {},
   "cell_type": "markdown",
   "metadata": {},
   "source": [
    "<span style=\"color:red\">Exercise</span>"
   ]
  },
  {
   "attachments": {},
   "cell_type": "markdown",
   "metadata": {},
   "source": [
    "## Getting and Setting attributes"
   ]
  },
  {
   "attachments": {},
   "cell_type": "markdown",
   "metadata": {},
   "source": [
    "![](../media/get_set_instance.png)"
   ]
  },
  {
   "cell_type": "code",
   "execution_count": null,
   "metadata": {},
   "outputs": [],
   "source": [
    "class Person:\n",
    "    species = \"human\"\n",
    "\n",
    "bob = Person()\n",
    "eve = Person()\n",
    "\n",
    "print(bob.species, eve.species)\n",
    "\n",
    "# Set instance attribute\n",
    "eve.species = \"alien\"\n",
    "\n",
    "print(bob.species, eve.species)\n",
    "\n",
    "# set class attribute\n",
    "Person.species = \"reptilian\"\n",
    "print(bob.species, eve.species)"
   ]
  },
  {
   "attachments": {},
   "cell_type": "markdown",
   "metadata": {},
   "source": [
    "## More on `self`"
   ]
  },
  {
   "attachments": {},
   "cell_type": "markdown",
   "metadata": {},
   "source": [
    "- `self` is a reference name used __in class definition__ to access instance own namespace*\n",
    "- `self` name is a strong convention in Python\n",
    "- `self` must be first parameter in method definition\n",
    "- calling a method will automatically pass `self` argument\n",
    "\n",
    "_\\* - if referenced element exists in instance's namespace_"
   ]
  },
  {
   "cell_type": "code",
   "execution_count": null,
   "metadata": {},
   "outputs": [],
   "source": [
    "class Woman:\n",
    "    def __init__(self) -> None:\n",
    "        self.weight = 60\n",
    "\n",
    "    def workout(self, hours: int) -> None:\n",
    "        self.weight -= hours\n",
    "        print(f\"I lost {hours} kg of weight and have {self.weight} kg now\")\n",
    "\n",
    "\n",
    "eve = Woman()  # 'self' argument is provided automatically\n",
    "eve.workout(hours=3)  # a.a.\n",
    "eve.workout(hours=2)\n"
   ]
  },
  {
   "attachments": {},
   "cell_type": "markdown",
   "metadata": {},
   "source": [
    "## Constructor `__init__`\n",
    "\n",
    "- although not technically correct by convention `__init__` method is called _constructor_\n",
    "- constructor is responsible for setting initial state of newly created instance\n",
    "- internally object instantiation is a two step process:\n",
    "    1. creation - making new instance of target class using `__new__()` method\n",
    "    1. initaialization - setting initial state of an instance by using `__init__()` method; class isn't initialized\n",
    "- constructor allows declaring signature for class\n",
    "\n",
    "Usually `__init__` is used to set instance attributes: `self.<attribute_name>`\n"
   ]
  },
  {
   "cell_type": "code",
   "execution_count": null,
   "metadata": {},
   "outputs": [],
   "source": [
    "from inspect import signature\n",
    "\n",
    "\n",
    "class Cat:\n",
    "    def __init__(self, color: str, age: int, legs: int = 4) -> None:\n",
    "        self.kolor = color\n",
    "        self.age_days = age * 365\n",
    "        self.legs = legs\n",
    "\n",
    "\n",
    "cat_1 = Cat(color=\"red\", age=3)\n",
    "cat_2 = Cat(color=\"green\", age=7, legs=5)\n",
    "\n",
    "print(cat_1.kolor, cat_1.age_days, cat_1.legs)\n",
    "print(cat_2.kolor, cat_2.age_days, cat_2.legs)\n",
    "\n",
    "signature(Cat)"
   ]
  },
  {
   "attachments": {},
   "cell_type": "markdown",
   "metadata": {},
   "source": [
    "## What will happen...\n",
    "If we set a variable in `__init__` but without `self`?"
   ]
  },
  {
   "cell_type": "code",
   "execution_count": null,
   "metadata": {},
   "outputs": [],
   "source": [
    "class Woman:\n",
    "    def __init__(self) -> None:\n",
    "        weight = 60\n",
    "\n",
    "eve = Woman()\n",
    "eve.weight"
   ]
  },
  {
   "attachments": {},
   "cell_type": "markdown",
   "metadata": {},
   "source": [
    "<span style=\"color:yellow\">Questions?</span>\n",
    "\n",
    "<span style=\"color:red\">Exercise</span>\n",
    "\n",
    "<span style=\"color:green\">=== Short break ===</span>"
   ]
  }
 ],
 "metadata": {
  "kernelspec": {
   "display_name": "Python 3",
   "language": "python",
   "name": "python3"
  },
  "language_info": {
   "codemirror_mode": {
    "name": "ipython",
    "version": 3
   },
   "file_extension": ".py",
   "mimetype": "text/x-python",
   "name": "python",
   "nbconvert_exporter": "python",
   "pygments_lexer": "ipython3",
   "version": "3.10.6"
  },
  "orig_nbformat": 4,
  "vscode": {
   "interpreter": {
    "hash": "631cc59691aa2975cf441ed089e512e56035cd73b61a7e03a7a910c32bac454c"
   }
  }
 },
 "nbformat": 4,
 "nbformat_minor": 2
}
