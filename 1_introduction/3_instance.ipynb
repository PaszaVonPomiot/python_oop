{
 "cells": [
  {
   "attachments": {},
   "cell_type": "markdown",
   "metadata": {},
   "source": [
    "## Instance / class object\n",
    "> instance / class object - new Python object created from class, initialized, cls-aware and self-aware"
   ]
  },
  {
   "cell_type": "code",
   "execution_count": 3,
   "metadata": {},
   "outputs": [
    {
     "name": "stdout",
     "output_type": "stream",
     "text": [
      "Shooting\n",
      "Shooting\n",
      "Shooting\n",
      "8 9\n"
     ]
    }
   ],
   "source": [
    "class Spy:\n",
    "    experience = 100\n",
    "    medikit = \"Grizzly medical kit\"\n",
    "    gun = \"Glock 17\"\n",
    "\n",
    "    def __init__(self):\n",
    "        self.bullets = 10\n",
    "\n",
    "    def shoot(self):\n",
    "        print(\"Shooting\")\n",
    "        self.bullets -= 1\n",
    "\n",
    "    def heal(self):\n",
    "        print(\"Healing\")\n",
    "\n",
    "\n",
    "spy1 = Spy()\n",
    "spy2 = Spy()\n",
    "\n",
    "spy1.shoot()\n",
    "spy1.shoot()\n",
    "spy2.shoot()\n",
    "\n",
    "print(spy1.bullets, spy2.bullets)\n",
    "# print(Spy.bullets)"
   ]
  },
  {
   "attachments": {},
   "cell_type": "markdown",
   "metadata": {},
   "source": [
    "## Self\n",
    "- each instance, once created, gets its own namespace\n",
    "- `self` is a reference in class definition to instance* namespace\n",
    "- `self` must be first parameter in method definition\n",
    "- calling a method will automatically pass `self` argument\n",
    "- `self` name is a strong convention in Python\n",
    "\n",
    "_\\* - if referenced element exists in instance's namespace_\n",
    "\n",
    "![self](self.png)"
   ]
  }
 ],
 "metadata": {
  "kernelspec": {
   "display_name": "Python 3",
   "language": "python",
   "name": "python3"
  },
  "language_info": {
   "codemirror_mode": {
    "name": "ipython",
    "version": 3
   },
   "file_extension": ".py",
   "mimetype": "text/x-python",
   "name": "python",
   "nbconvert_exporter": "python",
   "pygments_lexer": "ipython3",
   "version": "3.10.6"
  },
  "orig_nbformat": 4,
  "vscode": {
   "interpreter": {
    "hash": "631cc59691aa2975cf441ed089e512e56035cd73b61a7e03a7a910c32bac454c"
   }
  }
 },
 "nbformat": 4,
 "nbformat_minor": 2
}
