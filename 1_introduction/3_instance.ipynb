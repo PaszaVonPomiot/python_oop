{
 "cells": [
  {
   "attachments": {},
   "cell_type": "markdown",
   "metadata": {},
   "source": [
    "## Instantiation / Construction\n",
    "- creating and initializing new instance of a class is called instantiation\n",
    "- instance is a new element in program namespace that was created based on class definition\n",
    "- create instance by calling a class\n",
    "- terms \"instance\" and \"object\" can be used interchangeably but \"object\" may be confused with other terms used in Python"
   ]
  },
  {
   "cell_type": "code",
   "execution_count": null,
   "metadata": {},
   "outputs": [],
   "source": [
    "class Archer:\n",
    "    ranged_weapon = \"Short Bow\"\n",
    "    melee_weapon = \"Dagger\"\n",
    "\n",
    "archer_1 = Archer()\n",
    "archer_2 = Archer()\n",
    "archer_3 = Archer()\n",
    "\n",
    "print(type(Archer))\n",
    "print(type(archer_1))"
   ]
  },
  {
   "attachments": {},
   "cell_type": "markdown",
   "metadata": {},
   "source": [
    "### Instance attributes and `self`\n",
    "Internally object instantiation is a two step process\n",
    "1. creation - making new instance of target class using `__new__()` method\n",
    "1. initaialization - setting initial state of an instance by using `__init__()` method; class isn't initialized\n",
    "\n",
    "Usually `__init__()` is used to set instance attributes: `self.<attribute_name>`\n",
    "\n",
    "> Instance attribute - attribute residing in instance namespace, accessible only from instance, not accessible from class"
   ]
  },
  {
   "cell_type": "code",
   "execution_count": null,
   "metadata": {},
   "outputs": [],
   "source": [
    "class Archer:\n",
    "    def __init__(self, ranged_weapon, melee_weapon):\n",
    "        self.ranged_weapon = ranged_weapon\n",
    "        self.melee_weapon = melee_weapon\n",
    "\n",
    "    def attack_ranged(self):\n",
    "        print(f\"Shooting with{self.ranged_weapon}\")\n",
    "\n",
    "    def attack_melee(self):\n",
    "        print(f\"Hitting with {self.melee_weapon}\")\n",
    "\n",
    "\n",
    "# __init__ arguments = instantiation arguments\n",
    "archer_1 = Archer(ranged_weapon=\"Long Bow\", melee_weapon=\"Sword\")\n",
    "archer_2 = Archer(ranged_weapon=\"Composite Bow\", melee_weapon=\"Axe\")"
   ]
  },
  {
   "attachments": {},
   "cell_type": "markdown",
   "metadata": {},
   "source": [
    "## More on `self`\n",
    "- each instance, once created, gets its own namespace\n",
    "- `self` is a reference in class definition to instance* namespace\n",
    "- `self` must be first parameter in method definition\n",
    "- calling a method will automatically pass `self` argument\n",
    "- `self` name is a strong convention in Python\n",
    "\n",
    "_\\* - if referenced element exists in instance's namespace_"
   ]
  },
  {
   "attachments": {},
   "cell_type": "markdown",
   "metadata": {},
   "source": [
    "![self](self.png)"
   ]
  }
 ],
 "metadata": {
  "kernelspec": {
   "display_name": "Python 3",
   "language": "python",
   "name": "python3"
  },
  "language_info": {
   "codemirror_mode": {
    "name": "ipython",
    "version": 3
   },
   "file_extension": ".py",
   "mimetype": "text/x-python",
   "name": "python",
   "nbconvert_exporter": "python",
   "pygments_lexer": "ipython3",
   "version": "3.10.6"
  },
  "orig_nbformat": 4,
  "vscode": {
   "interpreter": {
    "hash": "631cc59691aa2975cf441ed089e512e56035cd73b61a7e03a7a910c32bac454c"
   }
  }
 },
 "nbformat": 4,
 "nbformat_minor": 2
}
