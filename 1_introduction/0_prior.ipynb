{
 "cells": [
  {
   "attachments": {},
   "cell_type": "markdown",
   "metadata": {},
   "source": [
    "# Prior knowledge"
   ]
  },
  {
   "attachments": {},
   "cell_type": "markdown",
   "metadata": {},
   "source": [
    "## Disclamer\n",
    "Examples used in this training are often caricaturized to emphasize the concept that is being diccussed. They are not to be taken as examples of best coding practices."
   ]
  },
  {
   "attachments": {},
   "cell_type": "markdown",
   "metadata": {},
   "source": [
    "## Static typing\n",
    "Throughout training type annotations will be used and will be applied to function parameters and return values. Typing helps developer to better understand data types used in program and thanks to static type checkers like mypy it allows to find potential bugs before they even occur. Many IDEs recognise type hints and provide IntelliSense which further improves development process."
   ]
  },
  {
   "cell_type": "code",
   "execution_count": null,
   "metadata": {},
   "outputs": [],
   "source": [
    "def get_goat_info(age: int, name: str) -> str:\n",
    "    return f\"{name} is a {age} year(s) old goat\""
   ]
  },
  {
   "attachments": {},
   "cell_type": "markdown",
   "metadata": {},
   "source": [
    "## Keyworded arguments\n",
    "Although it's possible to use positional and keyworded arguments in Python, for almost every function keyword arguments will be used to be more explicit.\n",
    "The exception can be for obvious functions with obvious arguments. Examples:"
   ]
  },
  {
   "cell_type": "code",
   "execution_count": null,
   "metadata": {},
   "outputs": [],
   "source": [
    "from math import cos\n",
    "\n",
    "# keyworded\n",
    "get_goat_info(age=4, name=\"Ernest\")\n",
    "\n",
    "# positional\n",
    "cos(2)\n",
    "len([1, 2, 3])\n",
    "sum([1, 2, 3])\n",
    "range(0, 11, 2)"
   ]
  },
  {
   "attachments": {},
   "cell_type": "markdown",
   "metadata": {},
   "source": [
    "## Implementation placeholders\n",
    "Both ellipsis (`...`) and `pass` can be used as a placeholder in function definition. In fact anything can be used as a placeholder, even `123` or `None`. By convention developers use `pass` or (`...`). Here we will use (`...`)."
   ]
  },
  {
   "cell_type": "code",
   "execution_count": null,
   "metadata": {},
   "outputs": [],
   "source": [
    "def later() -> None:\n",
    "\t..."
   ]
  },
  {
   "attachments": {},
   "cell_type": "markdown",
   "metadata": {},
   "source": [
    "## PascalCase\n",
    "Class names will ALWAYS be in PascalCase:\n",
    "\n",
    "```\n",
    "JohnRambo\n",
    "KingInTheNorth\n",
    "VehicleMechanic\n",
    "ActiveDirectory\n",
    "HttpError\n",
    "```"
   ]
  },
  {
   "attachments": {},
   "cell_type": "markdown",
   "metadata": {},
   "source": [
    "## snake_case\n",
    "Variable names and function names will ALWAYS be in snake_case:\n",
    "```\n",
    "john_rambo\n",
    "king_of_the_north\n",
    "vehicle_mechanic\n",
    "active_directory\n",
    "http_error_404\n",
    "```"
   ]
  },
  {
   "cell_type": "markdown",
   "metadata": {},
   "source": [
    "# CONSTANT_CASE\n",
    "Variable names that are constant will ALWAYS be in CONSTANT_CASE:\n",
    "```\n",
    "PI\n",
    "SPEED_OF_LIGHT\n",
    "DAYS_IN_A_WEEK\n",
    "ELECTRON_MASS\n",
    "AVOGADRO\n",
    "```"
   ]
  },
  {
   "attachments": {},
   "cell_type": "markdown",
   "metadata": {},
   "source": [
    "## Decorator\n",
    "A function that changes behavior of other function (or class).\n",
    "Example:\n",
    "\n"
   ]
  },
  {
   "cell_type": "code",
   "execution_count": null,
   "metadata": {},
   "outputs": [],
   "source": [
    "from collections.abc import Callable\n",
    "\n",
    "\n",
    "def bonus(func: Callable) -> Callable:\n",
    "    def wrapper() -> float:\n",
    "        return func() * 1.5\n",
    "\n",
    "    return wrapper\n",
    "\n",
    "\n",
    "@bonus\n",
    "def get_salary() -> int:\n",
    "    return 2000\n",
    "\n",
    "\n",
    "get_salary()"
   ]
  },
  {
   "cell_type": "markdown",
   "metadata": {},
   "source": [
    "## Parameter vs Argument"
   ]
  },
  {
   "cell_type": "code",
   "execution_count": null,
   "metadata": {},
   "outputs": [],
   "source": [
    "def generate_money(investment: int) -> int:\n",
    "    return 2 * investment\n",
    "\n",
    "generate_money(1000)"
   ]
  },
  {
   "cell_type": "markdown",
   "metadata": {},
   "source": [
    "## Signature\n",
    "\n",
    "> signature - set of parameters and return annotation for given callable"
   ]
  },
  {
   "cell_type": "code",
   "execution_count": null,
   "metadata": {},
   "outputs": [],
   "source": [
    "from inspect import signature\n",
    "\n",
    "\n",
    "def fun1(a: int, b: float, c: str = \"goat\") -> list[int | float | str]:\n",
    "    return [a, b, c]\n",
    "\n",
    "\n",
    "str(signature(fun1))"
   ]
  }
 ],
 "metadata": {
  "kernelspec": {
   "display_name": "python-oop-r_Rj-fig-py3.10",
   "language": "python",
   "name": "python3"
  },
  "language_info": {
   "codemirror_mode": {
    "name": "ipython",
    "version": 3
   },
   "file_extension": ".py",
   "mimetype": "text/x-python",
   "name": "python",
   "nbconvert_exporter": "python",
   "pygments_lexer": "ipython3",
   "version": "3.10.6"
  },
  "orig_nbformat": 4,
  "vscode": {
   "interpreter": {
    "hash": "61a0187907a68c34b7d3c9479ef03cf0dde3071604f882e18ddbd2f3d951afe1"
   }
  }
 },
 "nbformat": 4,
 "nbformat_minor": 2
}
